{
  "nbformat": 4,
  "nbformat_minor": 0,
  "metadata": {
    "colab": {
      "provenance": []
    },
    "kernelspec": {
      "name": "python3",
      "display_name": "Python 3"
    },
    "language_info": {
      "name": "python"
    }
  },
  "cells": [
    {
      "cell_type": "markdown",
      "source": [
        "Download ```roop.zip```"
      ],
      "metadata": {
        "id": "6peWyGT-bUx8"
      }
    },
    {
      "cell_type": "code",
      "execution_count": null,
      "metadata": {
        "id": "YBTXw3iSWkQ_",
        "outputId": "d530a79a-e9eb-4572-be9a-2a32e6a7bb90",
        "colab": {
          "base_uri": "https://localhost:8080/"
        }
      },
      "outputs": [
        {
          "output_type": "stream",
          "name": "stdout",
          "text": [
            "Mounted at /content/gdrive\n"
          ]
        }
      ],
      "source": [
        "# Mount Google Drive for backup all models\n",
        "from google.colab import drive\n",
        "drive.mount('/content/gdrive')"
      ]
    },
    {
      "cell_type": "code",
      "source": [
        "#@title Upload roop.zip\n",
        "import os\n",
        "from google.colab import files\n",
        "import shutil\n",
        "from zipfile import ZipFile\n",
        "from tqdm import tqdm\n",
        "import urllib\n",
        "def extract_zip(zip_file_path,extract_path):\n",
        "    # Create the extraction directory if it doesn't exist\n",
        "    os.makedirs(extract_path, exist_ok=True)\n",
        "    # Open the ZIP file\n",
        "    with ZipFile(zip_file_path, 'r') as zip_ref:\n",
        "        # Extract all contents to the specified directory\n",
        "        zip_ref.extractall(extract_path)\n",
        "    print(f\"Contents of '{zip_file_path}' extracted to '{extract_path}'.\")\n",
        "\n",
        "\n",
        "def zip_folder(folder_path, zip_path):\n",
        "    if os.path.exists(zip_path):\n",
        "      os.remove(zip_path)\n",
        "    with ZipFile(zip_path, 'w') as zipf:\n",
        "        for root, dirs, files in os.walk(folder_path):\n",
        "            for file in files:\n",
        "                file_path = os.path.join(root, file)\n",
        "                arcname = os.path.relpath(file_path, folder_path)\n",
        "                zipf.write(file_path, arcname=arcname)\n",
        "\n",
        "\n",
        "\n",
        "def conditional_download(url, download_file_path):\n",
        "    print(f\"Downloading {os.path.basename(download_file_path)}\")\n",
        "    base_path = os.path.dirname(download_file_path)\n",
        "\n",
        "    if not os.path.exists(base_path):\n",
        "        os.makedirs(base_path)\n",
        "\n",
        "    if os.path.exists(download_file_path):\n",
        "        os.remove(download_file_path)\n",
        "\n",
        "    try:\n",
        "        request = urllib.request.urlopen(url)  # type: ignore[attr-defined]\n",
        "        total = int(request.headers.get('Content-Length', 0))\n",
        "    except urllib.error.URLError as e:\n",
        "        print(f\"Error: Unable to open the URL - {url}\")\n",
        "        print(f\"Reason: {e.reason}\")\n",
        "        return\n",
        "\n",
        "    with tqdm(total=total, desc='Downloading', unit='B', unit_scale=True, unit_divisor=1024) as progress:\n",
        "        try:\n",
        "            urllib.request.urlretrieve(url, download_file_path, reporthook=lambda count, block_size, total_size: progress.update(block_size))  # type: ignore[attr-defined]\n",
        "        except urllib.error.URLError as e:\n",
        "            print(f\"Error: Failed to download the file from the URL - {url}\")\n",
        "            print(f\"Reason: {e.reason}\")\n",
        "            return\n",
        "\n",
        "    print(f\"Download successful!\")\n",
        "    print(f\"URL: {url}\")\n",
        "    print(f\"Save at: {download_file_path}\")\n",
        "\n",
        "\n",
        "\n",
        "%cd /content/\n",
        "!rm -rf /content/roop\n",
        "roop_zip_path = '/content/roop.zip'\n",
        "if not os.path.exists(roop_zip_path):\n",
        "  uploaded = files.upload()\n",
        "from IPython.display import clear_output\n",
        "clear_output()\n",
        "\n",
        "if os.path.exists(roop_zip_path):\n",
        "  print(\"/content/roop.zip Already Exist\")\n",
        "  extract_zip(\"/content/roop.zip\",\"/content/\")\n",
        "else:\n",
        "  print(\"/content/roop.zip not Found Run This Cell Again\")\n"
      ],
      "metadata": {
        "colab": {
          "base_uri": "https://localhost:8080/",
          "height": 90
        },
        "id": "XBLepCDLbP0E",
        "outputId": "6ff81edb-ac17-4b81-869c-3bb793b81810",
        "cellView": "form"
      },
      "execution_count": null,
      "outputs": [
        {
          "output_type": "stream",
          "name": "stdout",
          "text": [
            "/content/roop.zip Already Exist\n",
            "Contents of '/content/roop.zip' extracted to '/content/'.\n"
          ]
        }
      ]
    },
    {
      "cell_type": "code",
      "source": [
        "inswapper_128 = 'https://huggingface.co/countfloyd/deepfake/resolve/main/inswapper_128.onnx'  # @param {type: \"string\"}\n",
        "inswapper_128_fp16 = 'https://github.com/Hillobar/Rope/releases/download/Sapphire/inswapper_128.fp16.onnx'  # @param {type: \"string\"}\n",
        "buffalo_l = 'https://github.com/deepinsight/insightface/releases/download/v0.7/buffalo_l.zip'  # @param {type: \"string\"}\n",
        "GFPGANv1_4 = 'https://github.com/TencentARC/GFPGAN/releases/download/v1.3.4/GFPGANv1.4.pth'  # @param {type: \"string\"}\n",
        "detection_Resnet50_Final = 'https://github.com/xinntao/facexlib/releases/download/v0.1.0/detection_Resnet50_Final.pth'  # @param {type: \"string\"}\n",
        "parsing_parsenet = 'https://github.com/xinntao/facexlib/releases/download/v0.2.2/parsing_parsenet.pth'  # @param {type: \"string\"}\n",
        "# print(\"Downloading inswapper_128.onnx\")\n",
        "conditional_download(inswapper_128,\"/content/roop/checkpoints/inswapper_128.onnx\")\n",
        "# print(\"Downloading inswapper_128.fp16.onnx\")\n",
        "conditional_download(inswapper_128_fp16,\"/content/roop/checkpoints/inswapper_128.fp16.onnx\")\n",
        "# print(\"Downloading buffalo_l.zip\")\n",
        "conditional_download(buffalo_l,\"/content/buffalo_l.zip\")\n",
        "extract_zip(\"/content/buffalo_l.zip\",\"/content/roop/checkpoints/models/buffalo_l\")\n",
        "# print(\"Downloading GFPGANv1.4.pth\")\n",
        "conditional_download(GFPGANv1_4,\"/content/roop/models/GFPGANv1.4.pth\")\n",
        "# print(\"Downloading detection_Resnet50_Final.pth\")\n",
        "conditional_download(detection_Resnet50_Final,\"/content/roop/gfpgan/weights/detection_Resnet50_Final.pth\")\n",
        "# print(\"Downloading parsing_parsenet.pth\")\n",
        "conditional_download(parsing_parsenet,\"/content/roop/gfpgan/weights/parsing_parsenet.pth\")\n",
        "\n",
        "\n",
        "folder_to_zip = '/content/roop'\n",
        "zip_file_path = '/content/roop.zip'\n",
        "zip_folder(folder_to_zip, zip_file_path)\n",
        "if os.path.exists(\"/content/gdrive/MyDrive\"):\n",
        "  if not os.path.exists(\"/content/gdrive/MyDrive/RoopFaceSwap_Backup\"):\n",
        "    os.mkdir(\"/content/gdrive/MyDrive/RoopFaceSwap_Backup\")\n",
        "  shutil.copy(zip_file_path,\"/content/gdrive/MyDrive/RoopFaceSwap_Backup/roop.zip\")\n",
        "  print(f\"File save at: /content/gdrive/MyDrive/RoopFaceSwap_Backup/roop.zip\")\n"
      ],
      "metadata": {
        "colab": {
          "base_uri": "https://localhost:8080/"
        },
        "cellView": "form",
        "id": "IrFF8mC0eGh5",
        "outputId": "824d03ec-a7b4-41d8-9b98-e3c9e53790e6"
      },
      "execution_count": null,
      "outputs": [
        {
          "output_type": "stream",
          "name": "stdout",
          "text": [
            "Downloading inswapper_128.onnx\n"
          ]
        },
        {
          "output_type": "stream",
          "name": "stderr",
          "text": [
            "Downloading: 529MB [00:05, 99.4MB/s]                           \n"
          ]
        },
        {
          "output_type": "stream",
          "name": "stdout",
          "text": [
            "Download successful!\n",
            "URL: https://huggingface.co/countfloyd/deepfake/resolve/main/inswapper_128.onnx\n",
            "Save at: /content/roop/checkpoints/inswapper_128.onnx\n",
            "Downloading inswapper_128.fp16.onnx\n"
          ]
        },
        {
          "output_type": "stream",
          "name": "stderr",
          "text": [
            "Downloading: 264MB [00:05, 46.2MB/s]                           \n"
          ]
        },
        {
          "output_type": "stream",
          "name": "stdout",
          "text": [
            "Download successful!\n",
            "URL: https://github.com/Hillobar/Rope/releases/download/Sapphire/inswapper_128.fp16.onnx\n",
            "Save at: /content/roop/checkpoints/inswapper_128.fp16.onnx\n",
            "Downloading buffalo_l.zip\n"
          ]
        },
        {
          "output_type": "stream",
          "name": "stderr",
          "text": [
            "Downloading: 275MB [00:01, 172MB/s]                           \n"
          ]
        },
        {
          "output_type": "stream",
          "name": "stdout",
          "text": [
            "Download successful!\n",
            "URL: https://github.com/deepinsight/insightface/releases/download/v0.7/buffalo_l.zip\n",
            "Save at: /content/buffalo_l.zip\n",
            "Contents of '/content/buffalo_l.zip' extracted to '/content/roop/checkpoints/models/buffalo_l'.\n",
            "Downloading GFPGANv1.4.pth\n"
          ]
        },
        {
          "output_type": "stream",
          "name": "stderr",
          "text": [
            "Downloading: 332MB [00:02, 143MB/s]                           \n"
          ]
        },
        {
          "output_type": "stream",
          "name": "stdout",
          "text": [
            "Download successful!\n",
            "URL: https://github.com/TencentARC/GFPGAN/releases/download/v1.3.4/GFPGANv1.4.pth\n",
            "Save at: /content/roop/models/GFPGANv1.4.pth\n",
            "Downloading detection_Resnet50_Final.pth\n"
          ]
        },
        {
          "output_type": "stream",
          "name": "stderr",
          "text": [
            "Downloading: 104MB [00:00, 119MB/s]                           \n"
          ]
        },
        {
          "output_type": "stream",
          "name": "stdout",
          "text": [
            "Download successful!\n",
            "URL: https://github.com/xinntao/facexlib/releases/download/v0.1.0/detection_Resnet50_Final.pth\n",
            "Save at: /content/roop/gfpgan/weights/detection_Resnet50_Final.pth\n",
            "Downloading parsing_parsenet.pth\n"
          ]
        },
        {
          "output_type": "stream",
          "name": "stderr",
          "text": [
            "Downloading: 81.4MB [00:01, 56.0MB/s]                            \n"
          ]
        },
        {
          "output_type": "stream",
          "name": "stdout",
          "text": [
            "Download successful!\n",
            "URL: https://github.com/xinntao/facexlib/releases/download/v0.2.2/parsing_parsenet.pth\n",
            "Save at: /content/roop/gfpgan/weights/parsing_parsenet.pth\n",
            "File save at: /content/gdrive/MyDrive/RoopFaceSwap_Backup/roop.zip\n"
          ]
        }
      ]
    },
    {
      "cell_type": "code",
      "source": [
        "from IPython.display import clear_output\n",
        "clear_output()\n",
        "folder_to_zip = '/content/roo'\n",
        "zip_file_path = '/content/RoopFaceSwap.zip'\n",
        "zip_folder(folder_to_zip, zip_file_path)\n",
        "if os.path.exists(\"/content/gdrive/MyDrive\"):\n",
        "  if not os.path.exists(\"/content/gdrive/MyDrive/RoopFaceSwap_Backup\"):\n",
        "    os.mkdir(\"/content/gdrive/MyDrive/RoopFaceSwap_Backup\")\n",
        "  shutil.copy(zip_file_path,\"/content/gdrive/MyDrive/RoopFaceSwap_Backup/RoopFaceSwap.zip\")"
      ],
      "metadata": {
        "id": "f2WBvtV5irTX"
      },
      "execution_count": null,
      "outputs": []
    },
    {
      "cell_type": "code",
      "source": [
        "!pip install https://github.com/karaokenerds/python-audio-separator/releases/download/v0.12.1/onnxruntime_gpu-1.17.0-cp310-cp310-linux_x86_64.whl\n",
        "!pip install -r /content/roop/requirements-colab.txt\n",
        "from IPython.display import clear_output\n",
        "clear_output()\n",
        "import time\n",
        "time.sleep(3)\n",
        "import os\n",
        "os.kill(os.getpid(), 9)"
      ],
      "metadata": {
        "id": "97QFitRwmk8s"
      },
      "execution_count": null,
      "outputs": []
    },
    {
      "cell_type": "code",
      "source": [
        "%cd /content/roop\n",
        "!python run.py --target /content/input.mp4 --source /content/face.png -o /content/try_swapped_face.mp4 --execution-provider cuda --frame-processor face_swapper face_enhancer"
      ],
      "metadata": {
        "colab": {
          "base_uri": "https://localhost:8080/"
        },
        "id": "rCpW2_Kymbw1",
        "outputId": "fae2462e-1390-4b18-af7a-408283f0ed89"
      },
      "execution_count": null,
      "outputs": [
        {
          "output_type": "stream",
          "name": "stdout",
          "text": [
            "/content/roop\n",
            "Applied providers: ['CUDAExecutionProvider', 'CPUExecutionProvider'], with options: {'CPUExecutionProvider': {}, 'CUDAExecutionProvider': {'prefer_nhwc': '0', 'tunable_op_max_tuning_duration_ms': '0', 'enable_skip_layer_norm_strict_mode': '0', 'tunable_op_tuning_enable': '0', 'use_ep_level_unified_stream': '0', 'device_id': '0', 'has_user_compute_stream': '0', 'gpu_mem_limit': '18446744073709551615', 'gpu_external_alloc': '0', 'gpu_external_free': '0', 'gpu_external_empty_cache': '0', 'cudnn_conv_algo_search': 'EXHAUSTIVE', 'cudnn_conv1d_pad_to_nc1d': '0', 'arena_extend_strategy': 'kNextPowerOfTwo', 'do_copy_in_default_stream': '1', 'enable_cuda_graph': '0', 'cudnn_conv_use_max_workspace': '1', 'tunable_op_enable': '0'}}\n",
            "find model: /content/roop/checkpoints/models/buffalo_l/1k3d68.onnx landmark_3d_68 ['None', 3, 192, 192] 0.0 1.0\n",
            "Applied providers: ['CUDAExecutionProvider', 'CPUExecutionProvider'], with options: {'CPUExecutionProvider': {}, 'CUDAExecutionProvider': {'prefer_nhwc': '0', 'tunable_op_max_tuning_duration_ms': '0', 'enable_skip_layer_norm_strict_mode': '0', 'tunable_op_tuning_enable': '0', 'use_ep_level_unified_stream': '0', 'device_id': '0', 'has_user_compute_stream': '0', 'gpu_mem_limit': '18446744073709551615', 'gpu_external_alloc': '0', 'gpu_external_free': '0', 'gpu_external_empty_cache': '0', 'cudnn_conv_algo_search': 'EXHAUSTIVE', 'cudnn_conv1d_pad_to_nc1d': '0', 'arena_extend_strategy': 'kNextPowerOfTwo', 'do_copy_in_default_stream': '1', 'enable_cuda_graph': '0', 'cudnn_conv_use_max_workspace': '1', 'tunable_op_enable': '0'}}\n",
            "find model: /content/roop/checkpoints/models/buffalo_l/2d106det.onnx landmark_2d_106 ['None', 3, 192, 192] 0.0 1.0\n",
            "Applied providers: ['CUDAExecutionProvider', 'CPUExecutionProvider'], with options: {'CPUExecutionProvider': {}, 'CUDAExecutionProvider': {'prefer_nhwc': '0', 'tunable_op_max_tuning_duration_ms': '0', 'enable_skip_layer_norm_strict_mode': '0', 'tunable_op_tuning_enable': '0', 'use_ep_level_unified_stream': '0', 'device_id': '0', 'has_user_compute_stream': '0', 'gpu_mem_limit': '18446744073709551615', 'gpu_external_alloc': '0', 'gpu_external_free': '0', 'gpu_external_empty_cache': '0', 'cudnn_conv_algo_search': 'EXHAUSTIVE', 'cudnn_conv1d_pad_to_nc1d': '0', 'arena_extend_strategy': 'kNextPowerOfTwo', 'do_copy_in_default_stream': '1', 'enable_cuda_graph': '0', 'cudnn_conv_use_max_workspace': '1', 'tunable_op_enable': '0'}}\n",
            "find model: /content/roop/checkpoints/models/buffalo_l/det_10g.onnx detection [1, 3, '?', '?'] 127.5 128.0\n",
            "Applied providers: ['CUDAExecutionProvider', 'CPUExecutionProvider'], with options: {'CPUExecutionProvider': {}, 'CUDAExecutionProvider': {'prefer_nhwc': '0', 'tunable_op_max_tuning_duration_ms': '0', 'enable_skip_layer_norm_strict_mode': '0', 'tunable_op_tuning_enable': '0', 'use_ep_level_unified_stream': '0', 'device_id': '0', 'has_user_compute_stream': '0', 'gpu_mem_limit': '18446744073709551615', 'gpu_external_alloc': '0', 'gpu_external_free': '0', 'gpu_external_empty_cache': '0', 'cudnn_conv_algo_search': 'EXHAUSTIVE', 'cudnn_conv1d_pad_to_nc1d': '0', 'arena_extend_strategy': 'kNextPowerOfTwo', 'do_copy_in_default_stream': '1', 'enable_cuda_graph': '0', 'cudnn_conv_use_max_workspace': '1', 'tunable_op_enable': '0'}}\n",
            "find model: /content/roop/checkpoints/models/buffalo_l/genderage.onnx genderage ['None', 3, 96, 96] 0.0 1.0\n",
            "Applied providers: ['CUDAExecutionProvider', 'CPUExecutionProvider'], with options: {'CPUExecutionProvider': {}, 'CUDAExecutionProvider': {'prefer_nhwc': '0', 'tunable_op_max_tuning_duration_ms': '0', 'enable_skip_layer_norm_strict_mode': '0', 'tunable_op_tuning_enable': '0', 'use_ep_level_unified_stream': '0', 'device_id': '0', 'has_user_compute_stream': '0', 'gpu_mem_limit': '18446744073709551615', 'gpu_external_alloc': '0', 'gpu_external_free': '0', 'gpu_external_empty_cache': '0', 'cudnn_conv_algo_search': 'EXHAUSTIVE', 'cudnn_conv1d_pad_to_nc1d': '0', 'arena_extend_strategy': 'kNextPowerOfTwo', 'do_copy_in_default_stream': '1', 'enable_cuda_graph': '0', 'cudnn_conv_use_max_workspace': '1', 'tunable_op_enable': '0'}}\n",
            "find model: /content/roop/checkpoints/models/buffalo_l/w600k_r50.onnx recognition ['None', 3, 112, 112] 127.5 127.5\n",
            "set det-size: (640, 640)\n",
            "[ROOP.CORE] Creating temporary resources...\n",
            "[ROOP.CORE] Extracting frames with 30 FPS...\n",
            "[ROOP.FACE-SWAPPER] Progressing...\n",
            "Processing:   0% 1/402 [00:00<04:00,  1.67frame/s, memory_usage=01.83GB, execution_providers=['CUDAExecutionProvider'], execution_threads=8]Applied providers: ['CUDAExecutionProvider', 'CPUExecutionProvider'], with options: {'CPUExecutionProvider': {}, 'CUDAExecutionProvider': {'prefer_nhwc': '0', 'tunable_op_max_tuning_duration_ms': '0', 'enable_skip_layer_norm_strict_mode': '0', 'tunable_op_tuning_enable': '0', 'use_ep_level_unified_stream': '0', 'device_id': '0', 'has_user_compute_stream': '0', 'gpu_mem_limit': '18446744073709551615', 'gpu_external_alloc': '0', 'gpu_external_free': '0', 'gpu_external_empty_cache': '0', 'cudnn_conv_algo_search': 'EXHAUSTIVE', 'cudnn_conv1d_pad_to_nc1d': '0', 'arena_extend_strategy': 'kNextPowerOfTwo', 'do_copy_in_default_stream': '1', 'enable_cuda_graph': '0', 'cudnn_conv_use_max_workspace': '1', 'tunable_op_enable': '0'}}\n",
            "inswapper-shape: [1, 3, 128, 128]\n",
            "Processing: 100% 402/402 [01:16<00:00,  5.25frame/s, memory_usage=02.24GB, execution_providers=['CUDAExecutionProvider'], execution_threads=8]\n",
            "[ROOP.FACE-ENHANCER] Progressing...\n",
            "Processing: 100% 402/402 [02:49<00:00,  2.37frame/s, memory_usage=02.67GB, execution_providers=['CUDAExecutionProvider'], execution_threads=8]\n",
            "[ROOP.CORE] Creating video with 30 FPS...\n",
            "[ROOP.CORE] Restoring audio might cause issues as fps are not kept...\n",
            "[ROOP.CORE] Cleaning temporary resources...\n",
            "[ROOP.CORE] Processing to video succeed!\n"
          ]
        }
      ]
    }
  ]
}