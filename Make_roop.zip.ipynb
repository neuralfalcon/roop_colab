{
  "cells": [
    {
      "attachments": {
        "image.png": {
          "image/png": "[encoded data removed]"
        }
      },
      "cell_type": "markdown",
      "metadata": {
        "id": "6peWyGT-bUx8"
      },
      "source": [
        "step 1. Download\n",
        "[```roop.zip```](https://github.com/neuralfalcon/roop_colab/raw/main/roop.zip) (3.2MB)<br>\n",
        "your folder Structure should look like this <br>\n",
        "![image.png](attachment:image.png)"
      ]
    },
    {
      "cell_type": "code",
      "execution_count": 3,
      "metadata": {
        "cellView": "form",
        "colab": {
          "base_uri": "https://localhost:8080/",
          "height": 90
        },
        "id": "XBLepCDLbP0E",
        "outputId": "6ff81edb-ac17-4b81-869c-3bb793b81810"
      },
      "outputs": [
        {
          "name": "stdout",
          "output_type": "stream",
          "text": [
            "roop.zip Already Exist\n",
            "Contents of './roop.zip' extracted to './'.\n"
          ]
        }
      ],
      "source": [
        "#@title Upload roop.zip\n",
        "import os\n",
        "import shutil\n",
        "from zipfile import ZipFile\n",
        "from tqdm import tqdm\n",
        "import urllib\n",
        "def extract_zip(zip_file_path,extract_path):\n",
        "    # Create the extraction directory if it doesn't exist\n",
        "    os.makedirs(extract_path, exist_ok=True)\n",
        "    # Open the ZIP file\n",
        "    with ZipFile(zip_file_path, 'r') as zip_ref:\n",
        "        # Extract all contents to the specified directory\n",
        "        zip_ref.extractall(extract_path)\n",
        "    print(f\"Contents of '{zip_file_path}' extracted to '{extract_path}'.\")\n",
        "\n",
        "\n",
        "def zip_folder(folder_path, zip_path):\n",
        "    if os.path.exists(zip_path):\n",
        "      os.remove(zip_path)\n",
        "    with ZipFile(zip_path, 'w') as zipf:\n",
        "        for root, dirs, files in os.walk(folder_path):\n",
        "            for file in files:\n",
        "                file_path = os.path.join(root, file)\n",
        "                arcname = os.path.relpath(file_path, folder_path)\n",
        "                zipf.write(file_path, arcname=arcname)\n",
        "\n",
        "\n",
        "\n",
        "def conditional_download(url, download_file_path):\n",
        "    print(f\"Downloading {os.path.basename(download_file_path)}\")\n",
        "    base_path = os.path.dirname(download_file_path)\n",
        "\n",
        "    if not os.path.exists(base_path):\n",
        "        os.makedirs(base_path)\n",
        "\n",
        "    if os.path.exists(download_file_path):\n",
        "        os.remove(download_file_path)\n",
        "\n",
        "    try:\n",
        "        request = urllib.request.urlopen(url)  # type: ignore[attr-defined]\n",
        "        total = int(request.headers.get('Content-Length', 0))\n",
        "    except urllib.error.URLError as e:\n",
        "        print(f\"Error: Unable to open the URL - {url}\")\n",
        "        print(f\"Reason: {e.reason}\")\n",
        "        return\n",
        "\n",
        "    with tqdm(total=total, desc='Downloading', unit='B', unit_scale=True, unit_divisor=1024) as progress:\n",
        "        try:\n",
        "            urllib.request.urlretrieve(url, download_file_path, reporthook=lambda count, block_size, total_size: progress.update(block_size))  # type: ignore[attr-defined]\n",
        "        except urllib.error.URLError as e:\n",
        "            print(f\"Error: Failed to download the file from the URL - {url}\")\n",
        "            print(f\"Reason: {e.reason}\")\n",
        "            return\n",
        "\n",
        "    print(f\"Download successful!\")\n",
        "    print(f\"URL: {url}\")\n",
        "    print(f\"Save at: {download_file_path}\")\n",
        "\n",
        "\n",
        "if os.path.exists(\"./roop\"):\n",
        "  shutil.rmtree(\"./roop\")\n",
        "\n",
        "roop_zip_path = './roop.zip'\n",
        "if os.path.exists(roop_zip_path):\n",
        "  print(\"roop.zip Already Exist\")\n",
        "  extract_zip(\"./roop.zip\",\"./\")\n",
        "else:\n",
        "  print(\"./roop.zip not Found Run This Cell Again\")\n"
      ]
    },
    {
      "cell_type": "code",
      "execution_count": 4,
      "metadata": {
        "cellView": "form",
        "colab": {
          "base_uri": "https://localhost:8080/"
        },
        "id": "IrFF8mC0eGh5",
        "outputId": "824d03ec-a7b4-41d8-9b98-e3c9e53790e6"
      },
      "outputs": [
        {
          "name": "stdout",
          "output_type": "stream",
          "text": [
            "Downloading inswapper_128.onnx\n"
          ]
        },
        {
          "name": "stderr",
          "output_type": "stream",
          "text": [
            "Downloading: 529MB [06:04, 1.52MB/s]                               \n"
          ]
        },
        {
          "name": "stdout",
          "output_type": "stream",
          "text": [
            "Download successful!\n",
            "URL: https://huggingface.co/countfloyd/deepfake/resolve/main/inswapper_128.onnx\n",
            "Save at: ./roop/checkpoints/inswapper_128.onnx\n",
            "Downloading inswapper_128.fp16.onnx\n"
          ]
        },
        {
          "name": "stderr",
          "output_type": "stream",
          "text": [
            "Downloading: 264MB [02:58, 1.55MB/s]                               \n"
          ]
        },
        {
          "name": "stdout",
          "output_type": "stream",
          "text": [
            "Download successful!\n",
            "URL: https://github.com/Hillobar/Rope/releases/download/Sapphire/inswapper_128.fp16.onnx\n",
            "Save at: ./roop/checkpoints/inswapper_128.fp16.onnx\n",
            "Downloading buffalo_l.zip\n"
          ]
        },
        {
          "name": "stderr",
          "output_type": "stream",
          "text": [
            "Downloading: 275MB [02:53, 1.66MB/s]                               \n"
          ]
        },
        {
          "name": "stdout",
          "output_type": "stream",
          "text": [
            "Download successful!\n",
            "URL: https://github.com/deepinsight/insightface/releases/download/v0.7/buffalo_l.zip\n",
            "Save at: ./buffalo_l.zip\n",
            "Contents of './buffalo_l.zip' extracted to './roop/checkpoints/models/buffalo_l'.\n",
            "Downloading GFPGANv1.4.pth\n"
          ]
        },
        {
          "name": "stderr",
          "output_type": "stream",
          "text": [
            "Downloading: 332MB [04:35, 1.27MB/s]                               \n"
          ]
        },
        {
          "name": "stdout",
          "output_type": "stream",
          "text": [
            "Download successful!\n",
            "URL: https://github.com/TencentARC/GFPGAN/releases/download/v1.3.4/GFPGANv1.4.pth\n",
            "Save at: ./roop/models/GFPGANv1.4.pth\n",
            "Downloading detection_Resnet50_Final.pth\n"
          ]
        },
        {
          "name": "stderr",
          "output_type": "stream",
          "text": [
            "Downloading: 104MB [01:41, 1.08MB/s]                              \n"
          ]
        },
        {
          "name": "stdout",
          "output_type": "stream",
          "text": [
            "Download successful!\n",
            "URL: https://github.com/xinntao/facexlib/releases/download/v0.1.0/detection_Resnet50_Final.pth\n",
            "Save at: ./roop/gfpgan/weights/detection_Resnet50_Final.pth\n",
            "Downloading parsing_parsenet.pth\n"
          ]
        },
        {
          "name": "stderr",
          "output_type": "stream",
          "text": [
            "Downloading: 81.4MB [01:14, 1.14MB/s]                              \n"
          ]
        },
        {
          "name": "stdout",
          "output_type": "stream",
          "text": [
            "Download successful!\n",
            "URL: https://github.com/xinntao/facexlib/releases/download/v0.2.2/parsing_parsenet.pth\n",
            "Save at: ./roop/gfpgan/weights/parsing_parsenet.pth\n",
            "Downloading onnxruntime_gpu-1.17.0-cp310-cp310-linux_x86_64.whl\n"
          ]
        },
        {
          "name": "stderr",
          "output_type": "stream",
          "text": [
            "Downloading: 164MB [02:25, 1.18MB/s]                               \n"
          ]
        },
        {
          "name": "stdout",
          "output_type": "stream",
          "text": [
            "Download successful!\n",
            "URL: https://github.com/karaokenerds/python-audio-separator/releases/download/v0.12.1/onnxruntime_gpu-1.17.0-cp310-cp310-linux_x86_64.whl\n",
            "Save at: ./roop/onnxruntime_gpu-1.17.0-cp310-cp310-linux_x86_64.whl\n",
            "New File save at: ./roop.zip\n"
          ]
        }
      ],
      "source": [
        "inswapper_128 = 'https://huggingface.co/countfloyd/deepfake/resolve/main/inswapper_128.onnx'  # @param {type: \"string\"}\n",
        "inswapper_128_fp16 = 'https://github.com/Hillobar/Rope/releases/download/Sapphire/inswapper_128.fp16.onnx'  # @param {type: \"string\"}\n",
        "buffalo_l = 'https://github.com/deepinsight/insightface/releases/download/v0.7/buffalo_l.zip'  # @param {type: \"string\"}\n",
        "GFPGANv1_4 = 'https://github.com/TencentARC/GFPGAN/releases/download/v1.3.4/GFPGANv1.4.pth'  # @param {type: \"string\"}\n",
        "detection_Resnet50_Final = 'https://github.com/xinntao/facexlib/releases/download/v0.1.0/detection_Resnet50_Final.pth'  # @param {type: \"string\"}\n",
        "parsing_parsenet = 'https://github.com/xinntao/facexlib/releases/download/v0.2.2/parsing_parsenet.pth'  # @param {type: \"string\"}\n",
        "onnx_gpu_install = 'https://github.com/karaokenerds/python-audio-separator/releases/download/v0.12.1/onnxruntime_gpu-1.17.0-cp310-cp310-linux_x86_64.whl'  # @param {type: \"string\"}\n",
        "\n",
        "# print(\"Downloading inswapper_128.onnx\")\n",
        "\n",
        "conditional_download(inswapper_128,\"./roop/checkpoints/inswapper_128.onnx\")\n",
        "# print(\"Downloading inswapper_128.fp16.onnx\")\n",
        "conditional_download(inswapper_128_fp16,\"./roop/checkpoints/inswapper_128.fp16.onnx\")\n",
        "# print(\"Downloading buffalo_l.zip\")\n",
        "conditional_download(buffalo_l,\"./buffalo_l.zip\")\n",
        "extract_zip(\"./buffalo_l.zip\",\"./roop/checkpoints/models/buffalo_l\")\n",
        "# print(\"Downloading GFPGANv1.4.pth\")\n",
        "conditional_download(GFPGANv1_4,\"./roop/models/GFPGANv1.4.pth\")\n",
        "# print(\"Downloading detection_Resnet50_Final.pth\")\n",
        "conditional_download(detection_Resnet50_Final,\"./roop/gfpgan/weights/detection_Resnet50_Final.pth\")\n",
        "# print(\"Downloading parsing_parsenet.pth\")\n",
        "conditional_download(parsing_parsenet,\"./roop/gfpgan/weights/parsing_parsenet.pth\")\n",
        "conditional_download(onnx_gpu_install,\"./roop/onnxruntime_gpu-1.17.0-cp310-cp310-linux_x86_64.whl\")\n",
        "\n",
        "\n",
        "folder_to_zip = './roop'\n",
        "zip_file_path = './roop.zip'\n",
        "zip_folder(folder_to_zip, zip_file_path)\n",
        "print(f\"New File save at: ./roop.zip\")\n"
      ]
    }
  ],
  "metadata": {
    "colab": {
      "provenance": []
    },
    "kernelspec": {
      "display_name": "Python 3",
      "name": "python3"
    },
    "language_info": {
      "codemirror_mode": {
        "name": "ipython",
        "version": 3
      },
      "file_extension": ".py",
      "mimetype": "text/x-python",
      "name": "python",
      "nbconvert_exporter": "python",
      "pygments_lexer": "ipython3",
      "version": "3.10.9"
    }
  },
  "nbformat": 4,
  "nbformat_minor": 0
}
